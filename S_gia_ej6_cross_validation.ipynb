{
  "nbformat": 4,
  "nbformat_minor": 5,
  "metadata": {
    "kernelspec": {
      "display_name": "Python 3 (ipykernel)",
      "language": "python",
      "name": "python3"
    },
    "language_info": {
      "codemirror_mode": {
        "name": "ipython",
        "version": 3
      },
      "file_extension": ".py",
      "mimetype": "text/x-python",
      "name": "python",
      "nbconvert_exporter": "python",
      "pygments_lexer": "ipython3",
      "version": "3.8.10"
    },
    "colab": {
      "name": "S_gia_ej6_cross-validation.ipynb",
      "provenance": [],
      "include_colab_link": true
    }
  },
  "cells": [
    {
      "cell_type": "markdown",
      "metadata": {
        "id": "view-in-github",
        "colab_type": "text"
      },
      "source": [
        "<a href=\"https://colab.research.google.com/github/suflorcita/GIA/blob/main/S_gia_ej6_cross_validation.ipynb\" target=\"_parent\"><img src=\"https://colab.research.google.com/assets/colab-badge.svg\" alt=\"Open In Colab\"/></a>"
      ]
    },
    {
      "cell_type": "code",
      "metadata": {
        "id": "cea7f9d9"
      },
      "source": [
        "import numpy as np\n",
        "import matplotlib.pyplot as plt\n",
        "from sklearn.linear_model import LinearRegression\n",
        "%matplotlib inline"
      ],
      "id": "cea7f9d9",
      "execution_count": null,
      "outputs": []
    },
    {
      "cell_type": "code",
      "metadata": {
        "id": "f5b05e70",
        "outputId": "09cf0b30-cc45-45c9-a66e-2fc42eebfd83"
      },
      "source": [
        "#genero de manera determinística los datos\n",
        "x = np.random.uniform(low=0,high=10.0,size=100)\n",
        "# print(x)\n",
        "\n",
        "y = 2.0 + 1.5 *x + 5.0 *(x**2) + np.random.normal(loc=0.0,scale=10.0, size=100)\n",
        "plt.scatter(x,y)"
      ],
      "id": "f5b05e70",
      "execution_count": null,
      "outputs": [
        {
          "data": {
            "text/plain": [
              "<matplotlib.collections.PathCollection at 0x7f600c602790>"
            ]
          },
          "execution_count": 23,
          "metadata": {},
          "output_type": "execute_result"
        },
        {
          "data": {
            "image/png": "[encoded data removed]",
            "text/plain": [
              "<Figure size 432x288 with 1 Axes>"
            ]
          },
          "metadata": {
            "needs_background": "light"
          },
          "output_type": "display_data"
        }
      ]
    },
    {
      "cell_type": "markdown",
      "metadata": {
        "id": "d66c1464"
      },
      "source": [
        "### Criterio: Cross-validation (K-Fold)"
      ],
      "id": "d66c1464"
    },
    {
      "cell_type": "code",
      "metadata": {
        "id": "1fc2b998",
        "outputId": "3ecfd521-231a-4c91-e304-37220653210f"
      },
      "source": [
        "# particiones del k-fold\n",
        "n = len(x)\n",
        "\n",
        "k = 5  #si k = n entonces es LLOCV : Leave One Out Cross Validation\n",
        "\n",
        "fold_size = n // k  #división entera, trunca, no redondea, no devuelve un float sino un entero\n",
        "# print('n:',n)\n",
        "# print('fold_size:',fold_size)\n",
        "\n",
        "urna = range(n)  #n bolillas para luego extraer  (0..99)\n",
        "# print(list(urna))\n",
        "\n",
        "folds = []\n",
        "\n",
        "for i in range (k-1):  #el último queda definido, no es necesario una vuelta más (i = 0, 1, 2, 3)\n",
        "    fold = np.random.choice(urna,size=fold_size,replace=False)\n",
        "    folds.append(fold)\n",
        "    urna = np.setdiff1d(urna,fold) #al conjunto urna, le resta fold\n",
        "\n",
        "folds.append(urna)  #le appendeo el remanente, lo que quedó de la urna\n",
        "print('folds:',folds)    "
      ],
      "id": "1fc2b998",
      "execution_count": null,
      "outputs": [
        {
          "name": "stdout",
          "output_type": "stream",
          "text": [
            "folds: [array([ 5, 46, 25, 36, 19, 31, 34, 83, 56, 24, 60, 95, 22, 57, 17, 69, 35,\n",
            "       67, 30, 11]), array([75, 78, 87, 43, 45, 47, 97, 28,  6, 61, 50,  8, 53, 71, 37, 94, 29,\n",
            "       84, 68, 15]), array([55, 85, 41, 82, 10,  1,  7, 26,  4, 93, 62,  2, 90, 32,  9, 74, 73,\n",
            "       58, 77, 89]), array([44, 66, 86, 79, 81,  0, 64, 72, 65, 21, 54, 27, 91, 33, 59, 20, 48,\n",
            "       99, 98, 80]), array([ 3, 12, 13, 14, 16, 18, 23, 38, 39, 40, 42, 49, 51, 52, 63, 70, 76,\n",
            "       88, 92, 96])]\n"
          ]
        }
      ]
    },
    {
      "cell_type": "code",
      "metadata": {
        "id": "21315626",
        "outputId": "509e90d3-52b4-4b64-c9a2-9695151c42dc"
      },
      "source": [
        "# analizamos el modelo lineal simple:  y = b0 + b1.x \n",
        "error_1 = 0.0 \n",
        "urna =  range (n)\n",
        "\n",
        "x = x.reshape(-1,1)  #lo volvemos columna\n",
        "y = y.reshape(-1,1)\n",
        "\n",
        "for i in range(k):  # i = 0,1,2,3,4\n",
        "    \n",
        "    #determino los índices\n",
        "    valid_index = folds[i]\n",
        "    train_index = np.setdiff1d(urna,valid_index)\n",
        "    \n",
        "    #separo los datos train y valid\n",
        "    x_train = x[train_index]\n",
        "    y_train = y[train_index]\n",
        "    \n",
        "    x_valid = x[valid_index]       \n",
        "    y_valid = y[valid_index]\n",
        "    \n",
        "    #hago la regresión con el conjunto de training\n",
        "    model = LinearRegression()\n",
        "    model.fit(x_train,y_train)\n",
        "    \n",
        "    #ahora evaluo el modelo con el conjunto de validación\n",
        "    y_pred = model.predict(x_valid)\n",
        "    \n",
        "    error_1 += np.mean((y_valid - y_pred)**2) #sumo el MSE obtenido en cada ciclo, y obtengo el MSE total\n",
        "\n",
        "print('MSE modelo1:',error_1)"
      ],
      "id": "21315626",
      "execution_count": null,
      "outputs": [
        {
          "name": "stdout",
          "output_type": "stream",
          "text": [
            "MSE modelo1: 6636.746271642163\n"
          ]
        }
      ]
    },
    {
      "cell_type": "code",
      "metadata": {
        "id": "f1b2d0c5",
        "outputId": "b211da23-eb0c-403d-fdd9-53c3d86f5ab9"
      },
      "source": [
        "## Modelo cuadrático: y = b0 + b1.x + b2.x^2\n",
        "error_2 = 0.0 \n",
        "urna =  range (n)\n",
        "\n",
        "for i in range(k):\n",
        "    #determino los índices\n",
        "    valid_index = folds[i]\n",
        "    train_index = np.setdiff1d(urna,valid_index)\n",
        "    \n",
        "    #separo los datos train y valid\n",
        "    x_train = x[train_index]\n",
        "    y_train = y[train_index]\n",
        "    \n",
        "    x_valid = x[valid_index]       \n",
        "    y_valid = y[valid_index]\n",
        "    \n",
        "    #armo las matrices de diseño para ambos conjuntos de datos\n",
        "    X_train = np.concatenate([x_train,x_train**2],axis=1)\n",
        "    X_valid =  np.concatenate([x_valid,x_valid**2],axis=1)\n",
        "    \n",
        "    #hago la regresión con el conjunto de training\n",
        "    model = LinearRegression()\n",
        "    model.fit(X_train,y_train)\n",
        "    \n",
        "    #ahora evaluo el modelo con el conjunto de validación\n",
        "    y_pred = model.predict(X_valid)\n",
        "    error_2 += np.mean((y_valid - y_pred)**2)  #mse, sumo el MSE de cada fold para obtener el MSE total\n",
        "\n",
        "print('MSE modelo2:',error_2)"
      ],
      "id": "f1b2d0c5",
      "execution_count": null,
      "outputs": [
        {
          "name": "stdout",
          "output_type": "stream",
          "text": [
            "MSE modelo2: 409.2134746089634\n"
          ]
        }
      ]
    },
    {
      "cell_type": "code",
      "metadata": {
        "id": "4a27d161",
        "outputId": "36dcce00-5a19-4d9e-cf76-89d113c4806c"
      },
      "source": [
        "## Modelo cúbico y = b0 + b1.x + b2.x^2 + b3.x^3\n",
        "error_3 = 0.0 \n",
        "\n",
        "urna =  range (n)\n",
        "\n",
        "for i in range(k):\n",
        "    #determino los índices\n",
        "    valid_index = folds[i]\n",
        "    train_index = np.setdiff1d(urna,valid_index)\n",
        "    \n",
        "    #separo los datos train y valid\n",
        "    x_train = x[train_index]\n",
        "    y_train = y[train_index]\n",
        "    \n",
        "    x_valid = x[valid_index]       \n",
        "    y_valid = y[valid_index]\n",
        "    \n",
        "    #armo las matrices de diseño para ambos conjuntos de datos\n",
        "    X_train = np.concatenate([x_train,x_train**2,x_train**3],axis=1)\n",
        "    X_valid = np.concatenate([x_valid,x_valid**2,x_valid**3],axis=1)\n",
        "    \n",
        "    model = LinearRegression()\n",
        "    model.fit(X_train,y_train)\n",
        "    \n",
        "    y_pred = model.predict(X_valid)\n",
        "    error_3 += np.mean((y_valid - y_pred)**2)\n",
        "\n",
        "print('MSE modelo3:',error_3)"
      ],
      "id": "4a27d161",
      "execution_count": null,
      "outputs": [
        {
          "name": "stdout",
          "output_type": "stream",
          "text": [
            "MSE modelo3: 420.26238816307364\n"
          ]
        }
      ]
    },
    {
      "cell_type": "raw",
      "metadata": {
        "id": "a4b7f280"
      },
      "source": [
        "Conclusiones: buscamos el modelo con el que obtuvimos menor MSE. Una vez seleccionado el mejor modelo, entrenamos con todos los datos de training, y evaluamos con los datos de testing que \"nunca vió el modelo\"."
      ],
      "id": "a4b7f280"
    }
  ]
}